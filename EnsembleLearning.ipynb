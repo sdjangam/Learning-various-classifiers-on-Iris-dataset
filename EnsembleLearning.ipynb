{
 "cells": [
  {
   "cell_type": "code",
   "execution_count": 1,
   "metadata": {
    "collapsed": true
   },
   "outputs": [],
   "source": [
    "from IPython.core.interactiveshell import InteractiveShell\n",
    "InteractiveShell.ast_node_interactivity = \"all\"\n",
    "%matplotlib inline\n",
    "#http://scikit-learn.org/stable/modules/ensemble.html"
   ]
  },
  {
   "cell_type": "markdown",
   "metadata": {},
   "source": [
    "# Bagging"
   ]
  },
  {
   "cell_type": "code",
   "execution_count": 2,
   "metadata": {},
   "outputs": [
    {
     "name": "stdout",
     "output_type": "stream",
     "text": [
      "Trees: 1\n",
      "Scores: [ 0.46511628  0.54761905  0.58536585  0.70731707  0.53658537]\n",
      "Mean Accuracy: 56.840072%\n",
      "KNN: 1\n",
      "Scores: [ 0.62790698  0.5         0.51219512  0.63414634  0.34146341]\n",
      "Mean Accuracy: 52.314237%\n",
      "Trees: 5\n",
      "Scores: [ 0.53488372  0.61904762  0.6097561   0.80487805  0.6097561 ]\n",
      "Mean Accuracy: 63.566432%\n",
      "KNN: 5\n",
      "Scores: [ 0.62790698  0.69047619  0.56097561  0.58536585  0.26829268]\n",
      "Mean Accuracy: 54.660346%\n",
      "Trees: 10\n",
      "Scores: [ 0.51162791  0.76190476  0.65853659  0.80487805  0.70731707]\n",
      "Mean Accuracy: 68.885288%\n",
      "KNN: 10\n",
      "Scores: [ 0.58139535  0.64285714  0.53658537  0.6097561   0.31707317]\n",
      "Mean Accuracy: 53.753343%\n",
      "Trees: 50\n",
      "Scores: [ 0.53488372  0.69047619  0.65853659  0.73170732  0.73170732]\n",
      "Mean Accuracy: 66.946223%\n",
      "KNN: 50\n",
      "Scores: [ 0.60465116  0.61904762  0.56097561  0.56097561  0.26829268]\n",
      "Mean Accuracy: 52.278854%\n"
     ]
    }
   ],
   "source": [
    "from csv import reader\n",
    "import numpy as np\n",
    "import pandas as pd\n",
    "from sklearn.ensemble import BaggingClassifier\n",
    "from sklearn.neighbors import KNeighborsClassifier\n",
    "from sklearn.tree import DecisionTreeClassifier\n",
    "from sklearn.model_selection import cross_val_score\n",
    "\n",
    "#Task is to train a network to discriminate between sonar signals bounced\n",
    "#off a metal cylinder and those bounced off a roughly cylindrical rock.\n",
    "\n",
    "\n",
    "filename = 'sonar.all-data.txt'\n",
    "dataset=pd.read_csv(filename, header=None).values\n",
    "lastColumn=len(dataset[0])-1\n",
    "\n",
    "# convert class column to integers\n",
    "dataset[:,lastColumn] = [0 if row[lastColumn]=='M' else 1 for row in dataset]\n",
    "\n",
    "n_folds = 5\n",
    "max_depth = 6\n",
    "\n",
    "x = np.zeros((len(dataset),len(dataset[0])-1))\n",
    "y = np.zeros(len(dataset))\n",
    "for i in range(0, len(dataset)):\n",
    "    x[i,:] = dataset[i][0:len(dataset[0])-1]\n",
    "    y[i] = dataset[i][len(dataset[0])-1]\n",
    "\n",
    "for n_est in [1, 5, 10, 50]:\n",
    "    clf1 = BaggingClassifier(DecisionTreeClassifier(), n_estimators = n_est)\n",
    "    scores = cross_val_score(clf1, x, y, cv=n_folds, scoring='accuracy')\n",
    "    print('Trees: %d' % n_est)\n",
    "    print('Scores: %s' % scores)\n",
    "    print('Mean Accuracy: {:3f}%'.format(np.mean(scores)*100))\n",
    "    \n",
    "    clf2 = BaggingClassifier(KNeighborsClassifier(),n_estimators = n_est)\n",
    "    scores = cross_val_score(clf2, x, y, cv=n_folds, scoring='accuracy')\n",
    "    print('KNN: %d' % n_est)\n",
    "    print('Scores: %s' % scores)\n",
    "    print('Mean Accuracy: {:3f}%'.format(np.mean(scores)*100))"
   ]
  },
  {
   "cell_type": "markdown",
   "metadata": {},
   "source": [
    "# Random Forests"
   ]
  },
  {
   "cell_type": "code",
   "execution_count": 7,
   "metadata": {},
   "outputs": [
    {
     "data": {
      "text/plain": [
       "0.97940879382055857"
      ]
     },
     "execution_count": 7,
     "metadata": {},
     "output_type": "execute_result"
    },
    {
     "data": {
      "text/plain": [
       "0.99960784313725493"
      ]
     },
     "execution_count": 7,
     "metadata": {},
     "output_type": "execute_result"
    }
   ],
   "source": [
    "from sklearn.model_selection import cross_val_score\n",
    "from sklearn.datasets import make_blobs\n",
    "from sklearn.ensemble import RandomForestClassifier\n",
    "from sklearn.tree import DecisionTreeClassifier\n",
    "\n",
    "#generate 10000 data instances with 10 features spread around 100 centers.\n",
    "X, y = make_blobs(n_samples=10000, n_features=10, centers=100,\n",
    "    random_state=0)\n",
    "\n",
    "clf = DecisionTreeClassifier(max_depth=None, min_samples_split=2,\n",
    "    random_state=0)\n",
    "scores = cross_val_score(clf, X, y)\n",
    "scores.mean()                             \n",
    "\n",
    "\n",
    "clf = RandomForestClassifier(n_estimators=10, max_depth=None,\n",
    "    min_samples_split=2, random_state=0)\n",
    "scores = cross_val_score(clf, X, y)\n",
    "scores.mean()                             "
   ]
  },
  {
   "cell_type": "code",
   "execution_count": 9,
   "metadata": {},
   "outputs": [
    {
     "name": "stdout",
     "output_type": "stream",
     "text": [
      "(477, 9) (477,) (205, 9) (205,)\n"
     ]
    },
    {
     "data": {
      "text/plain": [
       "RandomForestClassifier(bootstrap=True, class_weight=None, criterion='gini',\n",
       "            max_depth=None, max_features='auto', max_leaf_nodes=None,\n",
       "            min_impurity_decrease=0.0, min_impurity_split=None,\n",
       "            min_samples_leaf=1, min_samples_split=2,\n",
       "            min_weight_fraction_leaf=0.0, n_estimators=10, n_jobs=1,\n",
       "            oob_score=False, random_state=None, verbose=0,\n",
       "            warm_start=False)"
      ]
     },
     "execution_count": 9,
     "metadata": {},
     "output_type": "execute_result"
    },
    {
     "name": "stdout",
     "output_type": "stream",
     "text": [
      "Actual outcome ::  2 and Predicted outcome :: 2\n",
      "Actual outcome ::  2 and Predicted outcome :: 2\n",
      "Actual outcome ::  4 and Predicted outcome :: 4\n",
      "Actual outcome ::  2 and Predicted outcome :: 2\n",
      "Actual outcome ::  2 and Predicted outcome :: 2\n",
      "Train Accuracy ::  1.0\n",
      "Test Accuracy  ::  0.975609756098\n",
      " Confusion matrix \n",
      " [[130   1]\n",
      " [  4  70]]\n"
     ]
    }
   ],
   "source": [
    "#Another full example\n",
    "#https://raw.githubusercontent.com/saimadhu-polamuri/DataAspirant_codes/master/random_forest/scripts/random_forest.py\n",
    "#http://dataaspirant.com/2017/06/26/random-forest-classifier-python-scikit-learn/\n",
    "import pandas as pd\n",
    "from sklearn.model_selection import train_test_split\n",
    "from sklearn.ensemble import RandomForestClassifier\n",
    "from sklearn.metrics import accuracy_score\n",
    "from sklearn.metrics import confusion_matrix\n",
    "\n",
    "#Read data description at the UCI ML page for this dataset.\n",
    "HEADERS = [\"CodeNumber\", \"ClumpThickness\", \"UniformityCellSize\", \"UniformityCellShape\", \"MarginalAdhesion\",\n",
    "           \"SingleEpithelialCellSize\", \"BareNuclei\", \"BlandChromatin\", \"NormalNucleoli\", \"Mitoses\", \"CancerType\"]\n",
    "\n",
    "# Load the csv file into pandas dataframe\n",
    "dataset = pd.read_csv(\"breast-cancer-wisconsin.csv\")\n",
    "# Get basic statistics of the loaded dataset\n",
    "#dataset.describe()\n",
    "\n",
    "# Filter missing values\n",
    "dataset=dataset[dataset[HEADERS[6]] != '?']\n",
    "train_x, test_x, train_y, test_y = train_test_split(dataset[HEADERS[1:-1]], dataset[HEADERS[-1]],\n",
    "                                                    train_size=0.7, test_size=0.3)\n",
    "print(train_x.shape,train_y.shape,test_x.shape,test_y.shape)\n",
    "# Create random forest classifier instance\n",
    "trained_model = RandomForestClassifier()\n",
    "trained_model.fit(train_x, train_y)\n",
    "predictions = trained_model.predict(test_x)\n",
    "\n",
    "for i in range(0, 5):\n",
    "    print(\"Actual outcome :: \",list(test_y)[i],\"and Predicted outcome ::\", predictions[i])\n",
    "\n",
    "print(\"Train Accuracy :: \", accuracy_score(train_y, trained_model.predict(train_x)))\n",
    "print(\"Test Accuracy  :: \", accuracy_score(test_y, predictions))\n",
    "print(\" Confusion matrix \\n\", confusion_matrix(test_y, predictions))"
   ]
  },
  {
   "cell_type": "markdown",
   "metadata": {},
   "source": [
    "# AdaBoost"
   ]
  },
  {
   "cell_type": "code",
   "execution_count": 3,
   "metadata": {},
   "outputs": [
    {
     "data": {
      "text/plain": [
       "array([ 0.98039216,  0.94117647,  0.95833333])"
      ]
     },
     "execution_count": 3,
     "metadata": {},
     "output_type": "execute_result"
    },
    {
     "data": {
      "text/plain": [
       "0.95996732026143794"
      ]
     },
     "execution_count": 3,
     "metadata": {},
     "output_type": "execute_result"
    }
   ],
   "source": [
    "from sklearn.model_selection import cross_val_score\n",
    "from sklearn.datasets import load_iris\n",
    "from sklearn.ensemble import AdaBoostClassifier\n",
    "\n",
    "iris = load_iris()\n",
    "clf = AdaBoostClassifier(n_estimators=100)\n",
    "scores = cross_val_score(clf, iris.data, iris.target)\n",
    "scores\n",
    "scores.mean()   "
   ]
  },
  {
   "cell_type": "markdown",
   "metadata": {},
   "source": [
    "# Gradient Tree Boosting"
   ]
  },
  {
   "cell_type": "code",
   "execution_count": 11,
   "metadata": {},
   "outputs": [
    {
     "data": {
      "text/plain": [
       "(12000, 10)"
      ]
     },
     "execution_count": 11,
     "metadata": {},
     "output_type": "execute_result"
    },
    {
     "data": {
      "text/plain": [
       "(12000,)"
      ]
     },
     "execution_count": 11,
     "metadata": {},
     "output_type": "execute_result"
    },
    {
     "data": {
      "text/plain": [
       "array([ 1., -1.,  1., -1.,  1., -1., -1., -1.,  1., -1.])"
      ]
     },
     "execution_count": 11,
     "metadata": {},
     "output_type": "execute_result"
    },
    {
     "data": {
      "text/plain": [
       "0.96099999999999997"
      ]
     },
     "execution_count": 11,
     "metadata": {},
     "output_type": "execute_result"
    }
   ],
   "source": [
    "#Classification\n",
    "from sklearn.datasets import make_hastie_10_2\n",
    "from sklearn.ensemble import GradientBoostingClassifier\n",
    "\n",
    "X, y = make_hastie_10_2(random_state=0)\n",
    "X.shape\n",
    "y.shape\n",
    "y[0:10]\n",
    "X_train, X_test = X[:10000], X[10000:]\n",
    "y_train, y_test = y[:10000], y[10000:]\n",
    "\n",
    "clf = GradientBoostingClassifier(n_estimators=500, learning_rate=0.9,\n",
    "    max_depth=2, random_state=0).fit(X_train, y_train)\n",
    "clf.score(X_test, y_test)"
   ]
  },
  {
   "cell_type": "code",
   "execution_count": 14,
   "metadata": {},
   "outputs": [
    {
     "data": {
      "text/plain": [
       "1.8274769560809017"
      ]
     },
     "execution_count": 14,
     "metadata": {},
     "output_type": "execute_result"
    }
   ],
   "source": [
    "#Regression\n",
    "import numpy as np\n",
    "from sklearn.metrics import mean_squared_error\n",
    "from sklearn.datasets import make_friedman1\n",
    "from sklearn.ensemble import GradientBoostingRegressor\n",
    "\n",
    "X, y = make_friedman1(n_samples=1200, random_state=0, noise=1.0)\n",
    "X_train, X_test = X[:1000], X[1000:]\n",
    "y_train, y_test = y[:1000], y[1000:]\n",
    "est = GradientBoostingRegressor(n_estimators=500, learning_rate=0.1,\n",
    "    max_depth=2, random_state=0, loss='ls').fit(X_train, y_train)\n",
    "mean_squared_error(y_test, est.predict(X_test))    "
   ]
  },
  {
   "cell_type": "code",
   "execution_count": 15,
   "metadata": {},
   "outputs": [
    {
     "data": {
      "text/plain": [
       "1.7966910536113181"
      ]
     },
     "execution_count": 15,
     "metadata": {},
     "output_type": "execute_result"
    }
   ],
   "source": [
    "#Fitting additional weak-learners\n",
    "_ = est.set_params(n_estimators=600, warm_start=True)  # set warm_start and new nr of trees\n",
    "_ = est.fit(X_train, y_train) # fit additional 100 trees to est\n",
    "mean_squared_error(y_test, est.predict(X_test)) "
   ]
  },
  {
   "cell_type": "markdown",
   "metadata": {},
   "source": [
    "# Feature Importance using Ensemble Classifiers"
   ]
  },
  {
   "cell_type": "code",
   "execution_count": 16,
   "metadata": {},
   "outputs": [
    {
     "data": {
      "text/plain": [
       "(12000, 10)"
      ]
     },
     "execution_count": 16,
     "metadata": {},
     "output_type": "execute_result"
    },
    {
     "data": {
      "text/plain": [
       "(12000,)"
      ]
     },
     "execution_count": 16,
     "metadata": {},
     "output_type": "execute_result"
    },
    {
     "data": {
      "text/plain": [
       "array([[ 1.76405235,  0.40015721,  0.97873798,  2.2408932 ,  1.86755799,\n",
       "        -0.97727788,  0.95008842, -0.15135721, -0.10321885,  0.4105985 ],\n",
       "       [ 0.14404357,  1.45427351,  0.76103773,  0.12167502,  0.44386323,\n",
       "         0.33367433,  1.49407907, -0.20515826,  0.3130677 , -0.85409574],\n",
       "       [-2.55298982,  0.6536186 ,  0.8644362 , -0.74216502,  2.26975462,\n",
       "        -1.45436567,  0.04575852, -0.18718385,  1.53277921,  1.46935877],\n",
       "       [ 0.15494743,  0.37816252, -0.88778575, -1.98079647, -0.34791215,\n",
       "         0.15634897,  1.23029068,  1.20237985, -0.38732682, -0.30230275],\n",
       "       [-1.04855297, -1.42001794, -1.70627019,  1.9507754 , -0.50965218,\n",
       "        -0.4380743 , -1.25279536,  0.77749036, -1.61389785, -0.21274028]])"
      ]
     },
     "execution_count": 16,
     "metadata": {},
     "output_type": "execute_result"
    },
    {
     "data": {
      "text/plain": [
       "array([ 1., -1.,  1., -1.,  1., -1., -1., -1.,  1., -1.])"
      ]
     },
     "execution_count": 16,
     "metadata": {},
     "output_type": "execute_result"
    },
    {
     "data": {
      "text/plain": [
       "array([ 0.11,  0.1 ,  0.11,  0.1 ,  0.09,  0.11,  0.09,  0.1 ,  0.1 ,  0.09])"
      ]
     },
     "execution_count": 16,
     "metadata": {},
     "output_type": "execute_result"
    }
   ],
   "source": [
    "#feature importance\n",
    "from sklearn.datasets import make_hastie_10_2\n",
    "from sklearn.ensemble import GradientBoostingClassifier\n",
    "\n",
    "X, y = make_hastie_10_2(random_state=0)\n",
    "X.shape\n",
    "y.shape\n",
    "X[0:5,:]\n",
    "y[0:10]\n",
    "\n",
    "clf = GradientBoostingClassifier(n_estimators=100, learning_rate=1.0,\n",
    "    max_depth=1, random_state=0).fit(X, y)\n",
    "clf.feature_importances_  "
   ]
  },
  {
   "cell_type": "code",
   "execution_count": 18,
   "metadata": {},
   "outputs": [
    {
     "data": {
      "image/png": "[encoded data removed]",
      "text/plain": [
       "<matplotlib.figure.Figure at 0x22ea23a2898>"
      ]
     },
     "metadata": {},
     "output_type": "display_data"
    }
   ],
   "source": [
    "#Partial dependence\n",
    "#Partial dependence plots (PDP) show the dependence between the target response and a set of ‘target’ features, \n",
    "#marginalizing over the values of all other features (the ‘complement’ features).\n",
    "\n",
    "#read more about PDPs here: https://www.kaggle.com/dansbecker/partial-dependence-plots \n",
    "#and http://scikit-learn.org/stable/auto_examples/ensemble/plot_partial_dependence.html\n",
    "\n",
    "#One-way PDPs tell us about the interaction between the target response and the target feature (e.g. linear, non-linear).\n",
    "#PDPs with two target features show the interactions among the two features.\n",
    "from sklearn.datasets import make_hastie_10_2\n",
    "from sklearn.ensemble import GradientBoostingClassifier\n",
    "from sklearn.ensemble.partial_dependence import plot_partial_dependence\n",
    "\n",
    "X, y = make_hastie_10_2(random_state=0)\n",
    "clf = GradientBoostingClassifier(n_estimators=100, learning_rate=1.0,\n",
    "    max_depth=1, random_state=0).fit(X, y)\n",
    "#show 1-way PDP for feature 0, 1-way PDP for feature 1, 2-way PDP for features 0 and 1 combined.\n",
    "features = [0, 1, (0, 1)]\n",
    "fig, axs = plot_partial_dependence(clf, X, features)"
   ]
  },
  {
   "cell_type": "code",
   "execution_count": 16,
   "metadata": {},
   "outputs": [
    {
     "data": {
      "image/png": "[encoded data removed]",
      "text/plain": [
       "<matplotlib.figure.Figure at 0x16fc6024a90>"
      ]
     },
     "metadata": {},
     "output_type": "display_data"
    },
    {
     "data": {
      "image/png": "[encoded data removed]",
      "text/plain": [
       "<matplotlib.figure.Figure at 0x16fc624c9b0>"
      ]
     },
     "metadata": {},
     "output_type": "display_data"
    },
    {
     "data": {
      "image/png": "[encoded data removed]",
      "text/plain": [
       "<matplotlib.figure.Figure at 0x16fc6410fd0>"
      ]
     },
     "metadata": {},
     "output_type": "display_data"
    }
   ],
   "source": [
    "#For multi-class models, you need to set the class label for which the PDPs should be created via the label argument:\n",
    "from sklearn.datasets import load_iris\n",
    "iris = load_iris()\n",
    "mc_clf = GradientBoostingClassifier(n_estimators=10,\n",
    "    max_depth=1).fit(iris.data, iris.target)\n",
    "features = [3, 2, (3, 2)]\n",
    "fig, axs = plot_partial_dependence(mc_clf, iris.data, features, label=0) \n",
    "fig, axs = plot_partial_dependence(mc_clf, iris.data, features, label=1) \n",
    "fig, axs = plot_partial_dependence(mc_clf, iris.data, features, label=2) "
   ]
  },
  {
   "cell_type": "code",
   "execution_count": 17,
   "metadata": {},
   "outputs": [
    {
     "data": {
      "text/plain": [
       "array([[ 2.46643157,  2.46643157,  2.46643157,  2.46643157,  2.46643157,\n",
       "         2.46643157,  1.15418258,  1.15418258,  1.15418258,  1.15418258,\n",
       "         1.15418258,  0.61847569,  0.61847569,  0.61847569,  0.61847569,\n",
       "         0.61847569,  0.61847569,  0.61847569,  0.61847569, -0.03524098,\n",
       "        -0.03524098, -0.03524098, -0.03524098, -0.03524098, -0.03524098,\n",
       "        -0.03524098, -0.03524098, -0.03524098, -0.03524098, -0.03524098,\n",
       "        -0.41817365, -0.41817365, -0.41817365, -0.41817365, -0.41817365,\n",
       "        -0.41817365, -0.41817365, -0.41817365, -0.41817365, -0.41817365,\n",
       "        -0.41817365, -0.41817365, -0.41817365, -0.41817365, -0.41817365,\n",
       "        -0.41817365, -0.41817365, -0.41817365, -0.41817365, -0.41817365,\n",
       "        -0.41817365, -0.41817365, -0.41817365, -0.41817365, -0.41817365,\n",
       "        -0.41817365, -0.41817365, -0.41817365, -0.41817365, -0.41817365,\n",
       "        -0.41817365, -0.41817365, -0.41817365, -0.41817365, -0.41817365,\n",
       "        -0.41817365, -0.41817365, -0.41817365, -0.41817365, -0.41817365,\n",
       "        -0.03532577, -0.03532577, -0.03532577, -0.03532577, -0.03532577,\n",
       "        -0.03532577, -0.03532577, -0.03532577, -0.03532577, -0.03532577,\n",
       "         0.66315234,  0.66315234,  0.66315234,  0.66315234,  0.66315234,\n",
       "         0.66315234,  0.66315234,  0.66315234,  0.66315234,  0.66315234,\n",
       "         0.66315234,  1.29415194,  1.29415194,  1.29415194,  1.29415194,\n",
       "         1.29415194,  1.29415194,  1.29415194,  2.8904982 ,  2.8904982 ]])"
      ]
     },
     "execution_count": 17,
     "metadata": {},
     "output_type": "execute_result"
    },
    {
     "data": {
      "text/plain": [
       "[array([-1.62497054, -1.59201391, -1.55905727, -1.52610063, -1.49314399,\n",
       "        -1.46018736, -1.42723072, -1.39427408, -1.36131744, -1.32836081,\n",
       "        -1.29540417, -1.26244753, -1.22949089, -1.19653425, -1.16357762,\n",
       "        -1.13062098, -1.09766434, -1.0647077 , -1.03175107, -0.99879443,\n",
       "        -0.96583779, -0.93288115, -0.89992452, -0.86696788, -0.83401124,\n",
       "        -0.8010546 , -0.76809797, -0.73514133, -0.70218469, -0.66922805,\n",
       "        -0.63627142, -0.60331478, -0.57035814, -0.5374015 , -0.50444487,\n",
       "        -0.47148823, -0.43853159, -0.40557495, -0.37261831, -0.33966168,\n",
       "        -0.30670504, -0.2737484 , -0.24079176, -0.20783513, -0.17487849,\n",
       "        -0.14192185, -0.10896521, -0.07600858, -0.04305194, -0.0100953 ,\n",
       "         0.02286134,  0.05581797,  0.08877461,  0.12173125,  0.15468789,\n",
       "         0.18764452,  0.22060116,  0.2535578 ,  0.28651444,  0.31947107,\n",
       "         0.35242771,  0.38538435,  0.41834099,  0.45129762,  0.48425426,\n",
       "         0.5172109 ,  0.55016754,  0.58312418,  0.61608081,  0.64903745,\n",
       "         0.68199409,  0.71495073,  0.74790736,  0.780864  ,  0.81382064,\n",
       "         0.84677728,  0.87973391,  0.91269055,  0.94564719,  0.97860383,\n",
       "         1.01156046,  1.0445171 ,  1.07747374,  1.11043038,  1.14338701,\n",
       "         1.17634365,  1.20930029,  1.24225693,  1.27521356,  1.3081702 ,\n",
       "         1.34112684,  1.37408348,  1.40704011,  1.43999675,  1.47295339,\n",
       "         1.50591003,  1.53886667,  1.5718233 ,  1.60477994,  1.63773658])]"
      ]
     },
     "execution_count": 17,
     "metadata": {},
     "output_type": "execute_result"
    }
   ],
   "source": [
    "#If you need the raw values of the partial dependence function rather than the plots you can use the partial_dependence function\n",
    "from sklearn.ensemble.partial_dependence import partial_dependence\n",
    "pdp, axes = partial_dependence(clf, [0], X=X)\n",
    "pdp  \n",
    "axes"
   ]
  },
  {
   "cell_type": "markdown",
   "metadata": {},
   "source": [
    "# XGBoost "
   ]
  },
  {
   "cell_type": "code",
   "execution_count": 46,
   "metadata": {},
   "outputs": [
    {
     "data": {
      "text/plain": [
       "XGBClassifier(base_score=0.5, booster='gbtree', colsample_bylevel=1,\n",
       "       colsample_bytree=1, gamma=0, learning_rate=0.1, max_delta_step=0,\n",
       "       max_depth=3, min_child_weight=1, missing=None, n_estimators=100,\n",
       "       n_jobs=1, nthread=None, objective='binary:logistic', random_state=0,\n",
       "       reg_alpha=0, reg_lambda=1, scale_pos_weight=1, seed=None,\n",
       "       silent=True, subsample=1)"
      ]
     },
     "execution_count": 46,
     "metadata": {},
     "output_type": "execute_result"
    },
    {
     "name": "stdout",
     "output_type": "stream",
     "text": [
      "XGBClassifier(base_score=0.5, booster='gbtree', colsample_bylevel=1,\n",
      "       colsample_bytree=1, gamma=0, learning_rate=0.1, max_delta_step=0,\n",
      "       max_depth=3, min_child_weight=1, missing=None, n_estimators=100,\n",
      "       n_jobs=1, nthread=None, objective='binary:logistic', random_state=0,\n",
      "       reg_alpha=0, reg_lambda=1, scale_pos_weight=1, seed=None,\n",
      "       silent=True, subsample=1)\n",
      "Accuracy 90.4292929293\n"
     ]
    }
   ],
   "source": [
    "#xgboost\n",
    "from xgboost import XGBClassifier\n",
    "#Look at this if there is a problem installing xgboost on your machine\n",
    "#https://stackoverflow.com/questions/33749735/how-to-install-xgboost-package-in-python-windows-platform/39811079#39811079\n",
    "\n",
    "#https://towardsdatascience.com/boosting-in-machine-learning-and-the-implementation-of-xgboost-in-python-fb5365e9f2a0\n",
    "from xgboost import XGBClassifier \n",
    "from sklearn.model_selection import train_test_split \n",
    "from sklearn.metrics import accuracy_score \n",
    "# split data into train and test sets \n",
    "X, Y = make_hastie_10_2(random_state=0)\n",
    "seed=7 \n",
    "test_size=0.33 \n",
    "X_train, X_test, y_train, y_test=train_test_split(X,Y,test_size= test_size,random_state= seed)\n",
    "# fit model no training data \n",
    "model = XGBClassifier() \n",
    "model.fit(X_train, y_train) \n",
    "print(model)\n",
    "# make predictions for test data \n",
    "y_pred = model.predict(X_test) \n",
    "predictions=[round(value) for value in y_pred] \n",
    "# evaluate predictions \n",
    "accuracy = accuracy_score(y_test, predictions) \n",
    "print(\"Accuracy\",accuracy * 100.)"
   ]
  },
  {
   "cell_type": "markdown",
   "metadata": {},
   "source": [
    "# Parameter Tuning for GBMs"
   ]
  },
  {
   "cell_type": "code",
   "execution_count": 48,
   "metadata": {
    "scrolled": false
   },
   "outputs": [
    {
     "data": {
      "text/plain": [
       "GridSearchCV(cv=5, error_score='raise',\n",
       "       estimator=GradientBoostingClassifier(criterion='friedman_mse', init=None,\n",
       "              learning_rate=0.1, loss='deviance', max_depth=8,\n",
       "              max_features='sqrt', max_leaf_nodes=None,\n",
       "              min_impurity_decrease=0.0, min_impurity_split=None,\n",
       "              min_samples_leaf=5, min_samples_split=10,\n",
       "              min_weight_fraction_leaf=0.0, n_estimators=100,\n",
       "              presort='auto', random_state=10, subsample=1.0, verbose=0,\n",
       "              warm_start=False),\n",
       "       fit_params={}, iid=True, n_jobs=4,\n",
       "       param_grid={'n_estimators': [10, 20, 30, 40, 50, 60, 70, 80, 90, 100]},\n",
       "       pre_dispatch='2*n_jobs', refit=True, scoring='roc_auc', verbose=0)"
      ]
     },
     "execution_count": 48,
     "metadata": {},
     "output_type": "execute_result"
    },
    {
     "data": {
      "text/plain": [
       "([mean: 0.68718, std: 0.01286, params: {'n_estimators': 10},\n",
       "  mean: 0.68759, std: 0.01605, params: {'n_estimators': 20},\n",
       "  mean: 0.68687, std: 0.01916, params: {'n_estimators': 30},\n",
       "  mean: 0.68496, std: 0.02226, params: {'n_estimators': 40},\n",
       "  mean: 0.67968, std: 0.02373, params: {'n_estimators': 50},\n",
       "  mean: 0.67225, std: 0.02137, params: {'n_estimators': 60},\n",
       "  mean: 0.66790, std: 0.02128, params: {'n_estimators': 70},\n",
       "  mean: 0.66506, std: 0.02233, params: {'n_estimators': 80},\n",
       "  mean: 0.66277, std: 0.02407, params: {'n_estimators': 90},\n",
       "  mean: 0.65978, std: 0.02408, params: {'n_estimators': 100}],\n",
       " {'n_estimators': 20},\n",
       " 0.6875862533094478)"
      ]
     },
     "execution_count": 48,
     "metadata": {},
     "output_type": "execute_result"
    },
    {
     "data": {
      "text/plain": [
       "GridSearchCV(cv=5, error_score='raise',\n",
       "       estimator=GradientBoostingClassifier(criterion='friedman_mse', init=None,\n",
       "              learning_rate=0.1, loss='deviance', max_depth=3,\n",
       "              max_features='sqrt', max_leaf_nodes=None,\n",
       "              min_impurity_decrease=0.0, min_impurity_split=None,\n",
       "              min_samples_leaf=1, min_samples_split=2,\n",
       "              min_weight_fraction_leaf=0.0, n_estimators=20,\n",
       "              presort='auto', random_state=10, subsample=1.0, verbose=0,\n",
       "              warm_start=False),\n",
       "       fit_params={}, iid=True, n_jobs=4,\n",
       "       param_grid={'max_depth': [5, 7, 9, 11, 13, 15], 'min_samples_split': [10, 15, 20, 25, 30, 35, 40, 45]},\n",
       "       pre_dispatch='2*n_jobs', refit=True, scoring='roc_auc', verbose=0)"
      ]
     },
     "execution_count": 48,
     "metadata": {},
     "output_type": "execute_result"
    },
    {
     "data": {
      "text/plain": [
       "([mean: 0.71033, std: 0.01541, params: {'max_depth': 5, 'min_samples_split': 10},\n",
       "  mean: 0.71154, std: 0.01468, params: {'max_depth': 5, 'min_samples_split': 15},\n",
       "  mean: 0.71253, std: 0.01188, params: {'max_depth': 5, 'min_samples_split': 20},\n",
       "  mean: 0.71027, std: 0.01542, params: {'max_depth': 5, 'min_samples_split': 25},\n",
       "  mean: 0.71452, std: 0.01347, params: {'max_depth': 5, 'min_samples_split': 30},\n",
       "  mean: 0.71162, std: 0.01689, params: {'max_depth': 5, 'min_samples_split': 35},\n",
       "  mean: 0.71383, std: 0.01436, params: {'max_depth': 5, 'min_samples_split': 40},\n",
       "  mean: 0.71349, std: 0.01345, params: {'max_depth': 5, 'min_samples_split': 45},\n",
       "  mean: 0.69724, std: 0.01088, params: {'max_depth': 7, 'min_samples_split': 10},\n",
       "  mean: 0.69327, std: 0.01876, params: {'max_depth': 7, 'min_samples_split': 15},\n",
       "  mean: 0.69741, std: 0.01434, params: {'max_depth': 7, 'min_samples_split': 20},\n",
       "  mean: 0.70133, std: 0.02107, params: {'max_depth': 7, 'min_samples_split': 25},\n",
       "  mean: 0.69759, std: 0.01411, params: {'max_depth': 7, 'min_samples_split': 30},\n",
       "  mean: 0.70161, std: 0.01622, params: {'max_depth': 7, 'min_samples_split': 35},\n",
       "  mean: 0.70152, std: 0.02039, params: {'max_depth': 7, 'min_samples_split': 40},\n",
       "  mean: 0.70359, std: 0.01977, params: {'max_depth': 7, 'min_samples_split': 45},\n",
       "  mean: 0.69212, std: 0.01960, params: {'max_depth': 9, 'min_samples_split': 10},\n",
       "  mean: 0.69140, std: 0.01767, params: {'max_depth': 9, 'min_samples_split': 15},\n",
       "  mean: 0.68836, std: 0.01960, params: {'max_depth': 9, 'min_samples_split': 20},\n",
       "  mean: 0.69834, std: 0.01490, params: {'max_depth': 9, 'min_samples_split': 25},\n",
       "  mean: 0.69641, std: 0.01695, params: {'max_depth': 9, 'min_samples_split': 30},\n",
       "  mean: 0.69707, std: 0.01678, params: {'max_depth': 9, 'min_samples_split': 35},\n",
       "  mean: 0.69491, std: 0.01147, params: {'max_depth': 9, 'min_samples_split': 40},\n",
       "  mean: 0.69527, std: 0.01562, params: {'max_depth': 9, 'min_samples_split': 45},\n",
       "  mean: 0.69184, std: 0.01115, params: {'max_depth': 11, 'min_samples_split': 10},\n",
       "  mean: 0.68510, std: 0.01377, params: {'max_depth': 11, 'min_samples_split': 15},\n",
       "  mean: 0.68890, std: 0.00746, params: {'max_depth': 11, 'min_samples_split': 20},\n",
       "  mean: 0.68809, std: 0.01495, params: {'max_depth': 11, 'min_samples_split': 25},\n",
       "  mean: 0.69064, std: 0.02095, params: {'max_depth': 11, 'min_samples_split': 30},\n",
       "  mean: 0.68454, std: 0.00783, params: {'max_depth': 11, 'min_samples_split': 35},\n",
       "  mean: 0.68613, std: 0.00797, params: {'max_depth': 11, 'min_samples_split': 40},\n",
       "  mean: 0.69662, std: 0.01322, params: {'max_depth': 11, 'min_samples_split': 45},\n",
       "  mean: 0.67087, std: 0.01085, params: {'max_depth': 13, 'min_samples_split': 10},\n",
       "  mean: 0.67792, std: 0.02096, params: {'max_depth': 13, 'min_samples_split': 15},\n",
       "  mean: 0.67466, std: 0.02006, params: {'max_depth': 13, 'min_samples_split': 20},\n",
       "  mean: 0.68357, std: 0.01546, params: {'max_depth': 13, 'min_samples_split': 25},\n",
       "  mean: 0.67798, std: 0.00717, params: {'max_depth': 13, 'min_samples_split': 30},\n",
       "  mean: 0.68250, std: 0.01890, params: {'max_depth': 13, 'min_samples_split': 35},\n",
       "  mean: 0.68381, std: 0.01931, params: {'max_depth': 13, 'min_samples_split': 40},\n",
       "  mean: 0.67934, std: 0.01445, params: {'max_depth': 13, 'min_samples_split': 45},\n",
       "  mean: 0.67568, std: 0.01367, params: {'max_depth': 15, 'min_samples_split': 10},\n",
       "  mean: 0.67559, std: 0.01214, params: {'max_depth': 15, 'min_samples_split': 15},\n",
       "  mean: 0.68116, std: 0.01945, params: {'max_depth': 15, 'min_samples_split': 20},\n",
       "  mean: 0.67395, std: 0.01278, params: {'max_depth': 15, 'min_samples_split': 25},\n",
       "  mean: 0.68018, std: 0.01672, params: {'max_depth': 15, 'min_samples_split': 30},\n",
       "  mean: 0.68205, std: 0.01888, params: {'max_depth': 15, 'min_samples_split': 35},\n",
       "  mean: 0.68799, std: 0.01031, params: {'max_depth': 15, 'min_samples_split': 40},\n",
       "  mean: 0.68594, std: 0.01780, params: {'max_depth': 15, 'min_samples_split': 45}],\n",
       " {'max_depth': 5, 'min_samples_split': 30},\n",
       " 0.7145206170523593)"
      ]
     },
     "execution_count": 48,
     "metadata": {},
     "output_type": "execute_result"
    },
    {
     "name": "stdout",
     "output_type": "stream",
     "text": [
      "\n",
      "Model Report\n",
      "Accuracy : 0.8625\n",
      "AUC Score (Train):  0.801639286923\n",
      "CV Score : Mean -  0.71452516778  | Std -  0.0134718931176  | Min -  0.701739064808  | Max -  0.735954329333\n"
     ]
    },
    {
     "data": {
      "image/png": "[encoded data removed]",
      "text/plain": [
       "<matplotlib.figure.Figure at 0x16fc59548d0>"
      ]
     },
     "metadata": {},
     "output_type": "display_data"
    }
   ],
   "source": [
    "#https://www.analyticsvidhya.com/blog/2016/02/complete-guide-parameter-tuning-gradient-boosting-gbm-python/\n",
    "#Import libraries:\n",
    "import pandas as pd\n",
    "import random\n",
    "import numpy as np\n",
    "from sklearn.ensemble import GradientBoostingClassifier  #GBM algorithm\n",
    "from sklearn import cross_validation, metrics   #Additional scklearn functions\n",
    "from sklearn.grid_search import GridSearchCV   #Performing grid search\n",
    "from sklearn.model_selection import train_test_split\n",
    "import matplotlib.pylab as plt\n",
    "%matplotlib inline\n",
    "from matplotlib.pylab import rcParams\n",
    "rcParams['figure.figsize'] = 12, 4\n",
    "random.seed(1234)\n",
    "\n",
    "heart=pd.read_csv(\"framingham.csv\",na_values=[\"?\",\",\"])\n",
    "heart['education']=heart['education'].astype('category')\n",
    "heart=pd.get_dummies(heart)\n",
    "heart['TenYearCHD']=heart['TenYearCHD'].astype('category')\n",
    "train=heart.fillna(heart.mean())\n",
    "target=train['TenYearCHD']\n",
    "train=train.drop(['TenYearCHD'], axis=1)\n",
    "\n",
    "def modelfit(alg, performCV=True, printFeatureImportance=True, cv_folds=5):\n",
    "    #Fit the algorithm on the data\n",
    "    train.shape\n",
    "    target.shape\n",
    "    alg.fit(train, target)\n",
    "    #Predict training set:\n",
    "    dtrain_predictions = alg.predict(train)\n",
    "    dtrain_predprob = alg.predict_proba(train)[:,1]\n",
    "    #Perform cross-validation:\n",
    "    if performCV:\n",
    "        cv_score = cross_validation.cross_val_score(alg, train, target, cv=cv_folds, scoring='roc_auc')\n",
    "    #Print model report:\n",
    "    print(\"\\nModel Report\")\n",
    "    print(\"Accuracy :\", metrics.accuracy_score(target, dtrain_predictions))\n",
    "    print(\"AUC Score (Train): \", metrics.roc_auc_score(target, dtrain_predprob))\n",
    "    if performCV:\n",
    "        print('CV Score : Mean - ',np.mean(cv_score),' | Std - ',np.std(cv_score),' | Min - ',\n",
    "              np.min(cv_score),' | Max - ',np.max(cv_score))\n",
    "    #Print Feature Importance:\n",
    "    if printFeatureImportance:\n",
    "        feat_imp = pd.Series(alg.feature_importances_, train.columns).sort_values(ascending=False)\n",
    "        feat_imp.plot(kind='bar', title='Feature Importances')\n",
    "        plt.ylabel('Feature Importance Score')\n",
    "\n",
    "#Fix learning rate and number of estimators for tuning tree-based parameters\n",
    "param_test1 = {'n_estimators':list(range(10,110,10))}\n",
    "gsearch1 = GridSearchCV(estimator = GradientBoostingClassifier(learning_rate=0.1, min_samples_split=10,\n",
    "                                min_samples_leaf=5,max_depth=8,max_features='sqrt',random_state=10), \n",
    "                                param_grid = param_test1, scoring='roc_auc',n_jobs=4,cv=5)\n",
    "gsearch1.fit(train,target)\n",
    "gsearch1.grid_scores_, gsearch1.best_params_, gsearch1.best_score_\n",
    "\n",
    "#Tuning tree-specific parameters\n",
    "param_test2 = {'max_depth':list(range(5,16,2)), 'min_samples_split':list(range(10,50,5))}\n",
    "gsearch2 = GridSearchCV(estimator = GradientBoostingClassifier(learning_rate=0.1, n_estimators=20, \n",
    "                                        max_features='sqrt', random_state=10), \n",
    "                                        param_grid = param_test2, scoring='roc_auc',n_jobs=4,cv=5)\n",
    "gsearch2.fit(train,target)\n",
    "gsearch2.grid_scores_, gsearch2.best_params_, gsearch2.best_score_\n",
    "\n",
    "modelfit(gsearch2.best_estimator_)"
   ]
  },
  {
   "cell_type": "markdown",
   "metadata": {},
   "source": [
    "# Voting"
   ]
  },
  {
   "cell_type": "code",
   "execution_count": 19,
   "metadata": {},
   "outputs": [
    {
     "name": "stdout",
     "output_type": "stream",
     "text": [
      "Accuracy: 0.90 (+/- 0.05) [Logistic Regression]\n",
      "Accuracy: 0.93 (+/- 0.05) [Random Forest]\n",
      "Accuracy: 0.91 (+/- 0.04) [naive Bayes]\n",
      "Accuracy: 0.95 (+/- 0.05) [Ensemble]\n"
     ]
    }
   ],
   "source": [
    "#Majority Class Labels (Majority/Hard Voting)\n",
    "from sklearn import datasets\n",
    "from sklearn.model_selection import cross_val_score\n",
    "from sklearn.linear_model import LogisticRegression\n",
    "from sklearn.naive_bayes import GaussianNB\n",
    "from sklearn.ensemble import RandomForestClassifier\n",
    "from sklearn.ensemble import VotingClassifier\n",
    "\n",
    "iris = datasets.load_iris()\n",
    "X, y = iris.data[:, 1:3], iris.target\n",
    "\n",
    "clf1 = LogisticRegression(random_state=1)\n",
    "clf2 = RandomForestClassifier(random_state=1)\n",
    "clf3 = GaussianNB()\n",
    "\n",
    "eclf = VotingClassifier(estimators=[('lr', clf1), ('rf', clf2), ('gnb', clf3)], voting='hard')\n",
    "\n",
    "for clf, label in zip([clf1, clf2, clf3, eclf], ['Logistic Regression', 'Random Forest', 'naive Bayes', 'Ensemble']):\n",
    "    scores = cross_val_score(clf, X, y, cv=5, scoring='accuracy')\n",
    "    print(\"Accuracy: %0.2f (+/- %0.2f) [%s]\" % (scores.mean(), scores.std(), label))"
   ]
  },
  {
   "cell_type": "markdown",
   "metadata": {},
   "source": [
    "# Weighted Average Probabilities (Soft Voting)"
   ]
  },
  {
   "cell_type": "code",
   "execution_count": 54,
   "metadata": {},
   "outputs": [
    {
     "data": {
      "text/plain": [
       "(100, 2)"
      ]
     },
     "execution_count": 54,
     "metadata": {},
     "output_type": "execute_result"
    },
    {
     "data": {
      "text/plain": [
       "DecisionTreeClassifier(class_weight=None, criterion='gini', max_depth=4,\n",
       "            max_features=None, max_leaf_nodes=None,\n",
       "            min_impurity_decrease=0.0, min_impurity_split=None,\n",
       "            min_samples_leaf=1, min_samples_split=2,\n",
       "            min_weight_fraction_leaf=0.0, presort=False, random_state=None,\n",
       "            splitter='best')"
      ]
     },
     "execution_count": 54,
     "metadata": {},
     "output_type": "execute_result"
    },
    {
     "data": {
      "text/plain": [
       "KNeighborsClassifier(algorithm='auto', leaf_size=30, metric='minkowski',\n",
       "           metric_params=None, n_jobs=1, n_neighbors=7, p=2,\n",
       "           weights='uniform')"
      ]
     },
     "execution_count": 54,
     "metadata": {},
     "output_type": "execute_result"
    },
    {
     "data": {
      "text/plain": [
       "SVC(C=1.0, cache_size=200, class_weight=None, coef0=0.0,\n",
       "  decision_function_shape='ovr', degree=3, gamma='auto', kernel='rbf',\n",
       "  max_iter=-1, probability=True, random_state=None, shrinking=True,\n",
       "  tol=0.001, verbose=False)"
      ]
     },
     "execution_count": 54,
     "metadata": {},
     "output_type": "execute_result"
    },
    {
     "data": {
      "text/plain": [
       "VotingClassifier(estimators=[('dt', DecisionTreeClassifier(class_weight=None, criterion='gini', max_depth=4,\n",
       "            max_features=None, max_leaf_nodes=None,\n",
       "            min_impurity_decrease=0.0, min_impurity_split=None,\n",
       "            min_samples_leaf=1, min_samples_split=2,\n",
       "            min_weight_fraction_leaf=0....',\n",
       "  max_iter=-1, probability=True, random_state=None, shrinking=True,\n",
       "  tol=0.001, verbose=False))],\n",
       "         flatten_transform=None, n_jobs=1, voting='soft',\n",
       "         weights=[2, 1, 2])"
      ]
     },
     "execution_count": 54,
     "metadata": {},
     "output_type": "execute_result"
    },
    {
     "data": {
      "text/plain": [
       "array([2, 1, 0, 1, 2, 0, 1, 0, 1, 2, 0, 2, 1, 1, 0, 0, 2, 1, 0, 2, 2, 0, 0,\n",
       "       2, 2, 1, 0, 2, 2, 1, 0, 0, 2, 2, 0, 1, 1, 1, 0, 1, 0, 1, 1, 2, 0, 0,\n",
       "       1, 1, 0, 2])"
      ]
     },
     "execution_count": 54,
     "metadata": {},
     "output_type": "execute_result"
    }
   ],
   "source": [
    "from sklearn import datasets\n",
    "from sklearn.tree import DecisionTreeClassifier\n",
    "from sklearn.model_selection import train_test_split\n",
    "from sklearn.neighbors import KNeighborsClassifier\n",
    "from sklearn.svm import SVC\n",
    "from itertools import product\n",
    "from sklearn.ensemble import VotingClassifier\n",
    "\n",
    "# Loading some example data\n",
    "iris = datasets.load_iris()\n",
    "train_x, test_x, train_y, test_y = train_test_split(iris.data[:,[0,2]], iris.target,train_size=100, test_size=50)\n",
    "train_x.shape\n",
    "# Training classifiers\n",
    "clf1 = DecisionTreeClassifier(max_depth=4)\n",
    "clf2 = KNeighborsClassifier(n_neighbors=7)\n",
    "clf3 = SVC(kernel='rbf', probability=True)\n",
    "eclf = VotingClassifier(estimators=[('dt', clf1), ('knn', clf2), ('svc', clf3)], voting='soft', weights=[2,1,2])\n",
    "\n",
    "clf1 = clf1.fit(train_x,train_y)\n",
    "clf2 = clf2.fit(train_x,train_y)\n",
    "clf3 = clf3.fit(train_x,train_y)\n",
    "eclf = eclf.fit(train_x,train_y)\n",
    "clf1\n",
    "clf2\n",
    "clf3\n",
    "eclf\n",
    "eclf.predict(test_x)"
   ]
  },
  {
   "cell_type": "markdown",
   "metadata": {},
   "source": [
    "# VotingClassifier with GridSearch"
   ]
  },
  {
   "cell_type": "code",
   "execution_count": 20,
   "metadata": {
    "scrolled": false
   },
   "outputs": [
    {
     "name": "stderr",
     "output_type": "stream",
     "text": [
      "C:\\Users\\gmanish\\AppData\\Local\\Continuum\\Anaconda\\envs\\py36\\lib\\site-packages\\sklearn\\model_selection\\_search.py:747: DeprecationWarning: The grid_scores_ attribute was deprecated in version 0.18 in favor of the more elaborate cv_results_ attribute. The grid_scores_ attribute will not be available from 0.20\n",
      "  DeprecationWarning)\n"
     ]
    },
    {
     "data": {
      "text/plain": [
       "[mean: 0.95333, std: 0.02667, params: {'lr__C': 1.0, 'rf__n_estimators': 20},\n",
       " mean: 0.95333, std: 0.03399, params: {'lr__C': 1.0, 'rf__n_estimators': 200},\n",
       " mean: 0.96000, std: 0.02494, params: {'lr__C': 100.0, 'rf__n_estimators': 20},\n",
       " mean: 0.95333, std: 0.03399, params: {'lr__C': 100.0, 'rf__n_estimators': 200}]"
      ]
     },
     "execution_count": 20,
     "metadata": {},
     "output_type": "execute_result"
    },
    {
     "data": {
      "text/plain": [
       "VotingClassifier(estimators=[('lr', LogisticRegression(C=100.0, class_weight=None, dual=False, fit_intercept=True,\n",
       "          intercept_scaling=1, max_iter=100, multi_class='ovr', n_jobs=1,\n",
       "          penalty='l2', random_state=1, solver='liblinear', tol=0.0001,\n",
       "          verbose=0, warm_start=False)), ('rf', RandomFo...   oob_score=False, random_state=1, verbose=0, warm_start=False)), ('gnb', GaussianNB(priors=None))],\n",
       "         flatten_transform=None, n_jobs=1, voting='soft',\n",
       "         weights=[2, 1, 2])"
      ]
     },
     "execution_count": 20,
     "metadata": {},
     "output_type": "execute_result"
    },
    {
     "data": {
      "text/plain": [
       "{'lr__C': 100.0, 'rf__n_estimators': 20}"
      ]
     },
     "execution_count": 20,
     "metadata": {},
     "output_type": "execute_result"
    },
    {
     "data": {
      "text/plain": [
       "0.95999999999999996"
      ]
     },
     "execution_count": 20,
     "metadata": {},
     "output_type": "execute_result"
    }
   ],
   "source": [
    "from sklearn.model_selection import GridSearchCV\n",
    "clf1 = LogisticRegression(random_state=1)\n",
    "clf2 = RandomForestClassifier(random_state=1)\n",
    "clf3 = GaussianNB()\n",
    "eclf = VotingClassifier(estimators=[('lr', clf1), ('rf', clf2), ('gnb', clf3)], voting='soft',weights=[2,1,2])\n",
    "\n",
    "params = {'lr__C': [1.0, 100.0], 'rf__n_estimators': [20, 200],}\n",
    "\n",
    "grid = GridSearchCV(estimator=eclf, param_grid=params,n_jobs=4, cv=5)\n",
    "grid = grid.fit(iris.data, iris.target)\n",
    "grid.grid_scores_\n",
    "grid.best_estimator_\n",
    "grid.best_params_\n",
    "grid.best_score_"
   ]
  },
  {
   "cell_type": "code",
   "execution_count": null,
   "metadata": {
    "collapsed": true
   },
   "outputs": [],
   "source": []
  }
 ],
 "metadata": {
  "kernelspec": {
   "display_name": "Python 3",
   "language": "python",
   "name": "python3"
  },
  "language_info": {
   "codemirror_mode": {
    "name": "ipython",
    "version": 3
   },
   "file_extension": ".py",
   "mimetype": "text/x-python",
   "name": "python",
   "nbconvert_exporter": "python",
   "pygments_lexer": "ipython3",
   "version": "3.7.4"
  }
 },
 "nbformat": 4,
 "nbformat_minor": 2
}
